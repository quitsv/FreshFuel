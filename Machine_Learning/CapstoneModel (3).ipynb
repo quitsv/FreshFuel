{
  "nbformat": 4,
  "nbformat_minor": 0,
  "metadata": {
    "colab": {
      "provenance": []
    },
    "kernelspec": {
      "name": "python3",
      "display_name": "Python 3"
    },
    "language_info": {
      "name": "python"
    }
  },
  "cells": [
    {
      "cell_type": "code",
      "execution_count": 1,
      "metadata": {
        "id": "QPfI8j4Ek94W"
      },
      "outputs": [],
      "source": [
        "import numpy as np\n",
        "import pandas as pd\n",
        "import tensorflow as tf\n",
        "from sklearn.model_selection import train_test_split"
      ]
    },
    {
      "cell_type": "code",
      "source": [
        "data = pd.read_csv('updated_capstonedata.csv', encoding='latin1', error_bad_lines=False, sep=';')\n",
        "\n",
        "# Filtering system for food allergies\n",
        "!pip install pandas openpyxl\n",
        "\n",
        "import pandas as pd\n",
        "\n",
        "allergies = [\"alcoholic\", \"almond\", \"peanut\", \"egg\", \"milk\", \"wheat\", \"soy\", \"chicken\", \"beef\", \"cashew\", \"cheese\", \"clam\", \"shrimp\", \"coconut\", \"dairy\", \"fish\", \"pork\", \"seafood\", \"squid\", \"crab\", \"strawberry\"]\n",
        "\n",
        "def filter_allergies(user_input):\n",
        "    filtered_allergies = []\n",
        "    for allergy in allergies:\n",
        "        if allergy in user_input.lower():\n",
        "            filtered_allergies.append(allergy)\n",
        "    return filtered_allergies\n",
        "\n",
        " # Prompt the user to enter their allergies\n",
        "filtered_allergies = input(\"Enter your allergies: \")\n",
        "# Split the data into features (X) and target (y)\n",
        "X = data.drop(['Recipe_Name', 'rating'], axis=1).values\n",
        "y = data['rating'].values\n",
        "\n",
        "# Split the data into training and validation sets\n",
        "X_train, X_val, y_train, y_val = train_test_split(X, y, test_size=0.2, random_state=42)"
      ],
      "metadata": {
        "colab": {
          "base_uri": "https://localhost:8080/"
        },
        "id": "Wo_UKTafk-rO",
        "outputId": "7c70aa43-bf45-4465-bda2-aff9ab35d55c"
      },
      "execution_count": 2,
      "outputs": [
        {
          "output_type": "stream",
          "name": "stderr",
          "text": [
            "<ipython-input-2-6dd073d1ca3c>:1: FutureWarning: The error_bad_lines argument has been deprecated and will be removed in a future version. Use on_bad_lines in the future.\n",
            "\n",
            "\n",
            "  data = pd.read_csv('updated_capstonedata.csv', encoding='latin1', error_bad_lines=False, sep=';')\n"
          ]
        },
        {
          "name": "stdout",
          "output_type": "stream",
          "text": [
            "Looking in indexes: https://pypi.org/simple, https://us-python.pkg.dev/colab-wheels/public/simple/\n",
            "Requirement already satisfied: pandas in /usr/local/lib/python3.10/dist-packages (1.5.3)\n",
            "Requirement already satisfied: openpyxl in /usr/local/lib/python3.10/dist-packages (3.0.10)\n",
            "Requirement already satisfied: python-dateutil>=2.8.1 in /usr/local/lib/python3.10/dist-packages (from pandas) (2.8.2)\n",
            "Requirement already satisfied: pytz>=2020.1 in /usr/local/lib/python3.10/dist-packages (from pandas) (2022.7.1)\n",
            "Requirement already satisfied: numpy>=1.21.0 in /usr/local/lib/python3.10/dist-packages (from pandas) (1.22.4)\n",
            "Requirement already satisfied: et-xmlfile in /usr/local/lib/python3.10/dist-packages (from openpyxl) (1.1.0)\n",
            "Requirement already satisfied: six>=1.5 in /usr/local/lib/python3.10/dist-packages (from python-dateutil>=2.8.1->pandas) (1.16.0)\n",
            "Enter your allergies: shrimp\n"
          ]
        }
      ]
    },
    {
      "cell_type": "code",
      "source": [
        "model = tf.keras.Sequential([\n",
        "    tf.keras.layers.Dense(128, activation='relu', input_shape=(X_train.shape[1],)),\n",
        "    tf.keras.layers.Dense(64, activation='relu'),\n",
        "    tf.keras.layers.Dense(32, activation='relu'),\n",
        "    tf.keras.layers.Dense(16, activation='relu'),\n",
        "    tf.keras.layers.Dense(8, activation='relu'),\n",
        "    tf.keras.layers.Dense(1)\n",
        "])"
      ],
      "metadata": {
        "id": "OXtOFRrNlE7Y"
      },
      "execution_count": 3,
      "outputs": []
    },
    {
      "cell_type": "code",
      "source": [
        "model.compile(optimizer='adam', loss='mse')"
      ],
      "metadata": {
        "id": "LssE4lN6lIIC"
      },
      "execution_count": 4,
      "outputs": []
    },
    {
      "cell_type": "code",
      "source": [
        "model.fit(X_train, y_train, validation_data=(X_val, y_val), epochs=100, batch_size=32)"
      ],
      "metadata": {
        "colab": {
          "base_uri": "https://localhost:8080/"
        },
        "id": "H1peX_KYlK6z",
        "outputId": "ec48fa70-e5c9-4a18-c9ad-1ad4f418c4ad"
      },
      "execution_count": 5,
      "outputs": [
        {
          "output_type": "stream",
          "name": "stdout",
          "text": [
            "Epoch 1/100\n",
            "243/243 [==============================] - 3s 5ms/step - loss: 13.5261 - val_loss: 4324.8760\n",
            "Epoch 2/100\n",
            "243/243 [==============================] - 2s 8ms/step - loss: 5.0639 - val_loss: 19.0212\n",
            "Epoch 3/100\n",
            "243/243 [==============================] - 3s 13ms/step - loss: 2.7223 - val_loss: 54.4912\n",
            "Epoch 4/100\n",
            "243/243 [==============================] - 2s 8ms/step - loss: 1.9659 - val_loss: 1.9822\n",
            "Epoch 5/100\n",
            "243/243 [==============================] - 2s 9ms/step - loss: 1.9332 - val_loss: 11.2186\n",
            "Epoch 6/100\n",
            "243/243 [==============================] - 2s 9ms/step - loss: 0.9461 - val_loss: 1.5229\n",
            "Epoch 7/100\n",
            "243/243 [==============================] - 2s 9ms/step - loss: 1.6052 - val_loss: 1.4967\n",
            "Epoch 8/100\n",
            "243/243 [==============================] - 3s 10ms/step - loss: 0.9169 - val_loss: 0.8472\n",
            "Epoch 9/100\n",
            "243/243 [==============================] - 3s 10ms/step - loss: 1.2510 - val_loss: 1.6088\n",
            "Epoch 10/100\n",
            "243/243 [==============================] - 2s 6ms/step - loss: 1.0903 - val_loss: 1.0348\n",
            "Epoch 11/100\n",
            "243/243 [==============================] - 2s 8ms/step - loss: 0.7237 - val_loss: 0.9788\n",
            "Epoch 12/100\n",
            "243/243 [==============================] - 2s 9ms/step - loss: 0.6062 - val_loss: 0.6346\n",
            "Epoch 13/100\n",
            "243/243 [==============================] - 2s 8ms/step - loss: 0.6082 - val_loss: 0.6153\n",
            "Epoch 14/100\n",
            "243/243 [==============================] - 3s 11ms/step - loss: 0.6169 - val_loss: 1.0700\n",
            "Epoch 15/100\n",
            "243/243 [==============================] - 3s 12ms/step - loss: 0.6107 - val_loss: 0.5889\n",
            "Epoch 16/100\n",
            "243/243 [==============================] - 2s 8ms/step - loss: 0.8340 - val_loss: 1.2339\n",
            "Epoch 17/100\n",
            "243/243 [==============================] - 2s 8ms/step - loss: 1.0108 - val_loss: 1.8933\n",
            "Epoch 18/100\n",
            "243/243 [==============================] - 2s 8ms/step - loss: 0.9145 - val_loss: 0.8045\n",
            "Epoch 19/100\n",
            "243/243 [==============================] - 2s 9ms/step - loss: 0.6148 - val_loss: 0.6267\n",
            "Epoch 20/100\n",
            "243/243 [==============================] - 3s 12ms/step - loss: 0.5455 - val_loss: 0.5628\n",
            "Epoch 21/100\n",
            "243/243 [==============================] - 2s 7ms/step - loss: 0.4823 - val_loss: 0.5349\n",
            "Epoch 22/100\n",
            "243/243 [==============================] - 1s 4ms/step - loss: 0.4720 - val_loss: 0.5679\n",
            "Epoch 23/100\n",
            "243/243 [==============================] - 1s 4ms/step - loss: 0.4575 - val_loss: 0.5517\n",
            "Epoch 24/100\n",
            "243/243 [==============================] - 1s 4ms/step - loss: 0.4780 - val_loss: 0.4992\n",
            "Epoch 25/100\n",
            "243/243 [==============================] - 1s 4ms/step - loss: 0.4677 - val_loss: 0.6350\n",
            "Epoch 26/100\n",
            "243/243 [==============================] - 1s 4ms/step - loss: 0.4785 - val_loss: 0.5435\n",
            "Epoch 27/100\n",
            "243/243 [==============================] - 1s 4ms/step - loss: 0.4037 - val_loss: 0.4323\n",
            "Epoch 28/100\n",
            "243/243 [==============================] - 1s 4ms/step - loss: 0.8181 - val_loss: 0.5549\n",
            "Epoch 29/100\n",
            "243/243 [==============================] - 1s 4ms/step - loss: 0.4410 - val_loss: 0.5246\n",
            "Epoch 30/100\n",
            "243/243 [==============================] - 1s 6ms/step - loss: 0.7522 - val_loss: 0.6256\n",
            "Epoch 31/100\n",
            "243/243 [==============================] - 2s 6ms/step - loss: 0.4350 - val_loss: 0.4882\n",
            "Epoch 32/100\n",
            "243/243 [==============================] - 1s 5ms/step - loss: 0.4146 - val_loss: 0.6881\n",
            "Epoch 33/100\n",
            "243/243 [==============================] - 1s 4ms/step - loss: 0.4163 - val_loss: 0.5237\n",
            "Epoch 34/100\n",
            "243/243 [==============================] - 1s 4ms/step - loss: 0.4108 - val_loss: 0.4681\n",
            "Epoch 35/100\n",
            "243/243 [==============================] - 1s 5ms/step - loss: 0.3950 - val_loss: 0.4418\n",
            "Epoch 36/100\n",
            "243/243 [==============================] - 1s 4ms/step - loss: 0.3973 - val_loss: 0.4567\n",
            "Epoch 37/100\n",
            "243/243 [==============================] - 1s 4ms/step - loss: 0.3911 - val_loss: 0.5053\n",
            "Epoch 38/100\n",
            "243/243 [==============================] - 1s 4ms/step - loss: 0.5060 - val_loss: 0.4869\n",
            "Epoch 39/100\n",
            "243/243 [==============================] - 1s 4ms/step - loss: 0.4521 - val_loss: 0.4764\n",
            "Epoch 40/100\n",
            "243/243 [==============================] - 1s 4ms/step - loss: 0.3923 - val_loss: 0.4450\n",
            "Epoch 41/100\n",
            "243/243 [==============================] - 1s 5ms/step - loss: 0.4068 - val_loss: 0.4471\n",
            "Epoch 42/100\n",
            "243/243 [==============================] - 2s 6ms/step - loss: 0.3787 - val_loss: 0.4400\n",
            "Epoch 43/100\n",
            "243/243 [==============================] - 1s 5ms/step - loss: 0.3654 - val_loss: 0.4823\n",
            "Epoch 44/100\n",
            "243/243 [==============================] - 1s 4ms/step - loss: 0.3833 - val_loss: 0.4445\n",
            "Epoch 45/100\n",
            "243/243 [==============================] - 1s 4ms/step - loss: 0.3546 - val_loss: 0.4538\n",
            "Epoch 46/100\n",
            "243/243 [==============================] - 1s 4ms/step - loss: 0.4065 - val_loss: 0.4600\n",
            "Epoch 47/100\n",
            "243/243 [==============================] - 1s 5ms/step - loss: 0.3687 - val_loss: 0.5434\n",
            "Epoch 48/100\n",
            "243/243 [==============================] - 1s 4ms/step - loss: 0.3614 - val_loss: 0.4314\n",
            "Epoch 49/100\n",
            "243/243 [==============================] - 1s 4ms/step - loss: 0.3530 - val_loss: 0.4388\n",
            "Epoch 50/100\n",
            "243/243 [==============================] - 1s 4ms/step - loss: 0.3436 - val_loss: 0.4536\n",
            "Epoch 51/100\n",
            "243/243 [==============================] - 1s 4ms/step - loss: 0.3477 - val_loss: 0.4709\n",
            "Epoch 52/100\n",
            "243/243 [==============================] - 1s 4ms/step - loss: 0.3347 - val_loss: 0.5868\n",
            "Epoch 53/100\n",
            "243/243 [==============================] - 2s 6ms/step - loss: 0.4009 - val_loss: 0.4375\n",
            "Epoch 54/100\n",
            "243/243 [==============================] - 1s 6ms/step - loss: 0.3568 - val_loss: 0.4269\n",
            "Epoch 55/100\n",
            "243/243 [==============================] - 1s 4ms/step - loss: 0.3495 - val_loss: 0.4305\n",
            "Epoch 56/100\n",
            "243/243 [==============================] - 1s 4ms/step - loss: 0.3353 - val_loss: 0.4141\n",
            "Epoch 57/100\n",
            "243/243 [==============================] - 1s 4ms/step - loss: 0.3379 - val_loss: 0.4169\n",
            "Epoch 58/100\n",
            "243/243 [==============================] - 1s 4ms/step - loss: 0.3260 - val_loss: 0.4184\n",
            "Epoch 59/100\n",
            "243/243 [==============================] - 1s 4ms/step - loss: 0.3224 - val_loss: 0.4351\n",
            "Epoch 60/100\n",
            "243/243 [==============================] - 1s 4ms/step - loss: 0.3319 - val_loss: 0.4230\n",
            "Epoch 61/100\n",
            "243/243 [==============================] - 1s 4ms/step - loss: 0.3214 - val_loss: 0.4300\n",
            "Epoch 62/100\n",
            "243/243 [==============================] - 1s 4ms/step - loss: 0.3191 - val_loss: 0.4234\n",
            "Epoch 63/100\n",
            "243/243 [==============================] - 1s 4ms/step - loss: 0.3240 - val_loss: 0.4301\n",
            "Epoch 64/100\n",
            "243/243 [==============================] - 1s 6ms/step - loss: 0.3177 - val_loss: 0.4169\n",
            "Epoch 65/100\n",
            "243/243 [==============================] - 2s 6ms/step - loss: 0.3241 - val_loss: 0.4318\n",
            "Epoch 66/100\n",
            "243/243 [==============================] - 1s 5ms/step - loss: 0.3174 - val_loss: 0.4767\n",
            "Epoch 67/100\n",
            "243/243 [==============================] - 1s 4ms/step - loss: 0.3125 - val_loss: 0.4215\n",
            "Epoch 68/100\n",
            "243/243 [==============================] - 1s 4ms/step - loss: 0.3437 - val_loss: 0.4455\n",
            "Epoch 69/100\n",
            "243/243 [==============================] - 1s 6ms/step - loss: 0.3140 - val_loss: 0.4250\n",
            "Epoch 70/100\n",
            "243/243 [==============================] - 2s 7ms/step - loss: 0.3087 - val_loss: 0.4242\n",
            "Epoch 71/100\n",
            "243/243 [==============================] - 1s 4ms/step - loss: 0.3009 - val_loss: 0.4510\n",
            "Epoch 72/100\n",
            "243/243 [==============================] - 1s 5ms/step - loss: 0.3015 - val_loss: 0.4210\n",
            "Epoch 73/100\n",
            "243/243 [==============================] - 1s 5ms/step - loss: 0.3026 - val_loss: 0.4194\n",
            "Epoch 74/100\n",
            "243/243 [==============================] - 1s 6ms/step - loss: 0.3083 - val_loss: 0.4319\n",
            "Epoch 75/100\n",
            "243/243 [==============================] - 2s 6ms/step - loss: 0.2959 - val_loss: 0.4267\n",
            "Epoch 76/100\n",
            "243/243 [==============================] - 1s 4ms/step - loss: 0.2921 - val_loss: 0.4160\n",
            "Epoch 77/100\n",
            "243/243 [==============================] - 1s 4ms/step - loss: 0.2926 - val_loss: 0.4544\n",
            "Epoch 78/100\n",
            "243/243 [==============================] - 1s 4ms/step - loss: 0.2891 - val_loss: 0.4419\n",
            "Epoch 79/100\n",
            "243/243 [==============================] - 1s 4ms/step - loss: 0.2884 - val_loss: 0.4185\n",
            "Epoch 80/100\n",
            "243/243 [==============================] - 1s 4ms/step - loss: 0.2830 - val_loss: 0.4252\n",
            "Epoch 81/100\n",
            "243/243 [==============================] - 1s 4ms/step - loss: 0.2874 - val_loss: 0.4141\n",
            "Epoch 82/100\n",
            "243/243 [==============================] - 1s 4ms/step - loss: 0.2734 - val_loss: 0.4252\n",
            "Epoch 83/100\n",
            "243/243 [==============================] - 1s 4ms/step - loss: 0.2717 - val_loss: 0.4708\n",
            "Epoch 84/100\n",
            "243/243 [==============================] - 1s 4ms/step - loss: 0.2766 - val_loss: 0.4255\n",
            "Epoch 85/100\n",
            "243/243 [==============================] - 1s 5ms/step - loss: 0.2756 - val_loss: 0.4243\n",
            "Epoch 86/100\n",
            "243/243 [==============================] - 2s 7ms/step - loss: 0.2683 - val_loss: 0.4227\n",
            "Epoch 87/100\n",
            "243/243 [==============================] - 1s 5ms/step - loss: 0.2695 - val_loss: 0.4335\n",
            "Epoch 88/100\n",
            "243/243 [==============================] - 1s 4ms/step - loss: 0.2761 - val_loss: 0.4228\n",
            "Epoch 89/100\n",
            "243/243 [==============================] - 1s 4ms/step - loss: 0.2564 - val_loss: 0.4304\n",
            "Epoch 90/100\n",
            "243/243 [==============================] - 1s 4ms/step - loss: 0.2560 - val_loss: 0.4225\n",
            "Epoch 91/100\n",
            "243/243 [==============================] - 1s 5ms/step - loss: 0.2622 - val_loss: 0.4227\n",
            "Epoch 92/100\n",
            "243/243 [==============================] - 1s 5ms/step - loss: 0.2587 - val_loss: 0.4632\n",
            "Epoch 93/100\n",
            "243/243 [==============================] - 1s 4ms/step - loss: 0.2950 - val_loss: 0.4058\n",
            "Epoch 94/100\n",
            "243/243 [==============================] - 1s 4ms/step - loss: 0.2495 - val_loss: 0.4314\n",
            "Epoch 95/100\n",
            "243/243 [==============================] - 1s 4ms/step - loss: 0.2522 - val_loss: 0.5163\n",
            "Epoch 96/100\n",
            "243/243 [==============================] - 1s 5ms/step - loss: 0.2541 - val_loss: 0.4427\n",
            "Epoch 97/100\n",
            "243/243 [==============================] - 2s 6ms/step - loss: 0.2525 - val_loss: 0.4626\n",
            "Epoch 98/100\n",
            "243/243 [==============================] - 2s 8ms/step - loss: 0.2374 - val_loss: 0.4392\n",
            "Epoch 99/100\n",
            "243/243 [==============================] - 2s 7ms/step - loss: 0.2389 - val_loss: 0.4355\n",
            "Epoch 100/100\n",
            "243/243 [==============================] - 2s 7ms/step - loss: 0.2479 - val_loss: 0.4265\n"
          ]
        },
        {
          "output_type": "execute_result",
          "data": {
            "text/plain": [
              "<keras.callbacks.History at 0x7f4ca843ba30>"
            ]
          },
          "metadata": {},
          "execution_count": 5
        }
      ]
    },
    {
      "cell_type": "code",
      "source": [
        "# Get the user input for recipe name and rating\n",
        "recipe_name = input(\"Enter the recipe name: \")\n",
        "rating = float(input(\"Rate the recipe (1-5): \"))\n",
        "\n",
        "# Find the index of the recipe in the dataset\n",
        "recipe_index = data[data['Recipe_Name'] == recipe_name].index[0]\n",
        "\n",
        "# Extract the features for the selected recipe\n",
        "recipe_features = X[recipe_index]\n",
        "\n",
        "# Calculate the Euclidean distances between features\n",
        "distances = np.linalg.norm(X - recipe_features, axis=1)\n",
        "\n",
        "# Sort the distances in ascending order\n",
        "sorted_distances = np.argsort(distances)\n",
        "\n",
        "# If the rating is high, recommend similar recipes\n",
        "if rating >= 4:\n",
        "    sorted_distances = sorted_distances[sorted_distances != recipe_index]\n",
        "\n",
        "    recommended_recipes = sorted_distances[:5]  # Get top 5 similar recipes\n",
        "else:\n",
        "    sorted_distances = sorted_distances[sorted_distances != recipe_index]\n",
        "\n",
        "    recommended_recipes = sorted_distances[-5:] # Get the top 5 dissimilar recipes\n",
        "\n",
        "# Print the recommended recipe names\n",
        "print(\"Recommended recipes:\")\n",
        "for index in recommended_recipes:\n",
        "    recipe_name = data.loc[index, 'Recipe_Name']\n",
        "    filtered_recipe_allergies = filter_allergies(recipe_name)\n",
        "    if not filtered_recipe_allergies:\n",
        "        print(recipe_name)"
      ],
      "metadata": {
        "colab": {
          "base_uri": "https://localhost:8080/"
        },
        "id": "tayrQ0b3lNmR",
        "outputId": "2b587ba4-86af-4d3c-dfb3-fb6b6e3bf503"
      },
      "execution_count": 6,
      "outputs": [
        {
          "output_type": "stream",
          "name": "stdout",
          "text": [
            "Enter the recipe name: Pumpkin Muffins \n",
            "Rate the recipe (1-5): 5\n",
            "Recommended recipes:\n",
            "Pumpkin Muffins \n",
            "Saffron Vichyssoise \n",
            "Double-Corn Chowder with Chipotle and Bacon \n",
            "Tomato, Arugula, and Ricotta Salata Salad \n"
          ]
        }
      ]
    },
    {
      "cell_type": "code",
      "source": [
        "import os\n",
        "\n",
        "directory = './saved_model/'\n",
        "\n",
        "if not os.path.exists(directory):\n",
        "    os.makedirs(directory)"
      ],
      "metadata": {
        "id": "kJncVyAIpU-5"
      },
      "execution_count": 7,
      "outputs": []
    },
    {
      "cell_type": "code",
      "source": [
        "# Define the directory path to save the model\n",
        "model_directory = './saved_model/'\n",
        "\n",
        "# Save the model\n",
        "tf.saved_model.save(model, model_directory)\n",
        "\n",
        "print(\"Model saved at:\", model_directory)"
      ],
      "metadata": {
        "colab": {
          "base_uri": "https://localhost:8080/"
        },
        "id": "mj4Nqrtmp1m6",
        "outputId": "4a428cff-6e44-48db-d8f2-366451978d87"
      },
      "execution_count": 8,
      "outputs": [
        {
          "output_type": "stream",
          "name": "stderr",
          "text": [
            "WARNING:absl:Found untraced functions such as _update_step_xla while saving (showing 1 of 1). These functions will not be directly callable after loading.\n"
          ]
        },
        {
          "output_type": "stream",
          "name": "stdout",
          "text": [
            "Model saved at: ./saved_model/\n"
          ]
        }
      ]
    },
    {
      "cell_type": "code",
      "source": [
        "import tensorflow as tf\n",
        "import numpy as np\n",
        "import pandas as pd\n",
        "from sklearn.metrics.pairwise import cosine_similarity\n",
        "\n",
        "# Load the saved model\n",
        "loaded_model = tf.saved_model.load('./saved_model/')\n",
        "\n",
        "allergies = [\"alcoholic\", \"almond\", \"peanut\", \"egg\", \"milk\", \"wheat\", \"soy\", \"chicken\", \"beef\", \"cashew\", \"cheese\", \"clam\", \"shrimp\", \"coconut\", \"dairy\", \"fish\", \"pork\", \"seafood\", \"squid\", \"crab\", \"strawberry\"]\n",
        "\n",
        "# Function to filter recipes based on allergies\n",
        "def filter_recipes(allergies, recipe_names):\n",
        "    filtered_recipes = []\n",
        "    for recipe_name in recipe_names:\n",
        "        contains_allergen = False\n",
        "        for allergy in allergies:\n",
        "            if allergy in recipe_name.lower():\n",
        "                contains_allergen = True\n",
        "                break\n",
        "        if not contains_allergen:\n",
        "            filtered_recipes.append(recipe_name)\n",
        "    return filtered_recipes\n",
        "\n",
        "# Prompt the user to enter their allergies\n",
        "print(\"Enter your allergies (separated by commas):\")\n",
        "filtered_allergies = input().lower().split(\",\")\n",
        "\n",
        "# Get the user input for recipe name and rating\n",
        "recipe_name = input(\"Enter the recipe name: \")\n",
        "rating = float(input(\"Rate the recipe (1-5): \"))\n",
        "\n",
        "# Find the index of the recipe in the dataset\n",
        "recipe_index = data[data['Recipe_Name'] == recipe_name].index[0]\n",
        "\n",
        "# Extract the features for the selected recipe\n",
        "recipe_features = X[recipe_index]\n",
        "\n",
        "# Reshape the input data to match the expected shape of the model\n",
        "input_data = np.expand_dims(recipe_features, axis=0)\n",
        "\n",
        "# Make the prediction\n",
        "signature = loaded_model.signatures['serving_default']\n",
        "predicted_rating = signature(tf.constant(input_data.astype(np.float32)))\n",
        "\n",
        "# Calculate the similarity scores between the selected recipe and all other recipes\n",
        "similarity_scores = cosine_similarity(X, recipe_features.reshape(1, -1))\n",
        "\n",
        "# Sort the similarity scores in descending order\n",
        "sorted_indices = np.argsort(similarity_scores.ravel())[::-1]\n",
        "\n",
        "# Get the top 5 indices (excluding the selected recipe itself)\n",
        "top_indices = sorted_indices[1:6]\n",
        "\n",
        "if rating <= 3:\n",
        "    # Get the least similar indices (excluding the selected recipe itself)\n",
        "    dissimilar_indices = sorted_indices[-6:-1]\n",
        "    top_indices = dissimilar_indices\n",
        "\n",
        "# Get the recipe names for the top indices\n",
        "top_recipe_names = data.iloc[top_indices]['Recipe_Name'].values\n",
        "\n",
        "# Filter recipes based on allergies\n",
        "filtered_recipe_names = filter_recipes(filtered_allergies, top_recipe_names)\n",
        "\n",
        "print(\"Recommended Recipes:\")\n",
        "for i, recipe in enumerate(filtered_recipe_names, 1):\n",
        "    print(f\"{i}. {recipe}\")"
      ],
      "metadata": {
        "colab": {
          "base_uri": "https://localhost:8080/"
        },
        "id": "CXEbhE_UJmhN",
        "outputId": "383c9423-f3d0-46f9-a940-283d7ebda72e"
      },
      "execution_count": 10,
      "outputs": [
        {
          "output_type": "stream",
          "name": "stdout",
          "text": [
            "Enter your allergies (separated by commas):\n",
            "blueberry\n",
            "Enter the recipe name: Pumpkin Muffins \n",
            "Rate the recipe (1-5): 5\n",
            "Recommended Recipes:\n",
            "1. Pumpkin Muffins \n",
            "2. Whole Grain Cranberry-Apple Scones \n",
            "3. Sweet-Potato Sticks with Mustard Seeds and Ginger \n",
            "4. Red Bell Pepper, Raisin and Olive Stuffing \n"
          ]
        }
      ]
    },
    {
      "cell_type": "code",
      "source": [
        "import tensorflow as tf\n",
        "import numpy as np\n",
        "\n",
        "# Load the saved model\n",
        "loaded_model = tf.saved_model.load('./saved_model')\n",
        "\n",
        "# Get the user input for recipe name and rating\n",
        "recipe_name = input(\"Enter the recipe name: \")\n",
        "rating = float(input(\"Rate the recipe (1-5): \"))\n",
        "\n",
        "# Find the index of the recipe in the dataset\n",
        "recipe_index = data[data['Recipe_Name'] == recipe_name].index[0]\n",
        "\n",
        "# Extract the features for the selected recipe\n",
        "recipe_features = X[recipe_index]\n",
        "\n",
        "# Reshape the input data to match the expected shape of the model\n",
        "input_data = np.expand_dims(recipe_features, axis=0)\n",
        "\n",
        "# Convert the input data to a tensor\n",
        "input_tensor = tf.convert_to_tensor(input_data, dtype=tf.float32)\n",
        "\n",
        "# Make the prediction\n",
        "predicted_rating = loaded_model(input_tensor)\n",
        "\n",
        "print(\"Predicted Rating:\", predicted_rating)"
      ],
      "metadata": {
        "colab": {
          "base_uri": "https://localhost:8080/"
        },
        "id": "rZW7trIhH0W6",
        "outputId": "c2150048-b03d-44a2-dc6f-2677b8f5d76f"
      },
      "execution_count": 11,
      "outputs": [
        {
          "output_type": "stream",
          "name": "stdout",
          "text": [
            "Enter the recipe name: Pumpkin Muffins \n",
            "Rate the recipe (1-5): 5\n",
            "Predicted Rating: tf.Tensor([[4.0557623]], shape=(1, 1), dtype=float32)\n"
          ]
        }
      ]
    },
    {
      "cell_type": "code",
      "source": [
        "preds = np.round(model.predict(X_val),0)\n",
        "from sklearn.metrics import confusion_matrix\n",
        "# confusion matrix\n",
        "confusion_matrix(y_val, preds)"
      ],
      "metadata": {
        "colab": {
          "base_uri": "https://localhost:8080/"
        },
        "id": "CcLoNh_tqBJx",
        "outputId": "668ee9b2-7c01-41c6-bedb-e93eca7c7442"
      },
      "execution_count": 12,
      "outputs": [
        {
          "output_type": "stream",
          "name": "stdout",
          "text": [
            "61/61 [==============================] - 0s 3ms/step\n"
          ]
        },
        {
          "output_type": "execute_result",
          "data": {
            "text/plain": [
              "array([[   2,    0,    1,   18,    2],\n",
              "       [   0,    2,    1,   12,    1],\n",
              "       [   0,    2,   20,  209,    9],\n",
              "       [   0,    2,   33, 1271,   47],\n",
              "       [   0,    1,    9,  240,   60]])"
            ]
          },
          "metadata": {},
          "execution_count": 12
        }
      ]
    },
    {
      "cell_type": "code",
      "source": [
        "# Calculate and print metrics\n",
        "preds_train = np.round(model.predict(X_train), 0)\n",
        "preds_val = np.round(model.predict(X_val), 0)\n",
        "\n",
        "accuracy_train = np.mean(np.abs(preds_train - y_train) <= 1.0)\n",
        "accuracy_val = np.mean(np.abs(preds_val - y_val) <= 1.0)\n",
        "\n",
        "loss_train = model.evaluate(X_train, y_train, verbose=0)\n",
        "loss_val = model.evaluate(X_val, y_val, verbose=0)\n",
        "\n",
        "mse_train = np.mean((preds_train - y_train) ** 2)\n",
        "mse_val = np.mean((preds_val - y_val) ** 2)\n",
        "\n",
        "rmse_train = np.sqrt(mse_train)\n",
        "rmse_val = np.sqrt(mse_val)\n",
        "\n",
        "mae_train = np.mean(np.abs(preds_train - y_train))\n",
        "mae_val = np.mean(np.abs(preds_val - y_val))\n",
        "\n",
        "print(\"Accuracy (Train):\", accuracy_train)\n",
        "print(\"Accuracy (Validation):\", accuracy_val)\n",
        "print(\"Training Loss:\", loss_train)\n",
        "print(\"Validation Loss:\", loss_val)\n",
        "print(\"RMSE (Train):\", rmse_train)\n",
        "print(\"RMSE (Validation):\", rmse_val)\n",
        "print(\"MAE (Train):\", mae_train)\n",
        "print(\"MAE (Validation):\", mae_val)\n",
        ""
      ],
      "metadata": {
        "colab": {
          "base_uri": "https://localhost:8080/"
        },
        "id": "NFLCgY-WzSS-",
        "outputId": "f93b33d1-fcac-4240-a2ce-944bdec0ba2d"
      },
      "execution_count": 13,
      "outputs": [
        {
          "output_type": "stream",
          "name": "stdout",
          "text": [
            "243/243 [==============================] - 0s 2ms/step\n",
            "61/61 [==============================] - 0s 2ms/step\n",
            "Accuracy (Train): 0.9653425888670195\n",
            "Accuracy (Validation): 0.96335278164611\n",
            "Training Loss: 0.22686663269996643\n",
            "Validation Loss: 0.4264606535434723\n",
            "RMSE (Train): 0.7211462149196699\n",
            "RMSE (Validation): 0.7357004147591034\n",
            "MAE (Train): 0.3915377755127619\n",
            "MAE (Validation): 0.40917821774827356\n"
          ]
        }
      ]
    },
    {
      "cell_type": "code",
      "source": [
        "from flask import Flask, request, jsonify\n",
        "import numpy as np\n",
        "\n",
        "app = Flask(__name__)"
      ],
      "metadata": {
        "id": "WITAe4ejqLlw"
      },
      "execution_count": null,
      "outputs": []
    },
    {
      "cell_type": "code",
      "source": [
        "@app.route('/predict', methods=['POST'])\n",
        "def predict():\n",
        "    # Get the recipe name from the request\n",
        "    recipe_name = request.json['recipe_name']"
      ],
      "metadata": {
        "id": "Zh2qL228rmS0"
      },
      "execution_count": null,
      "outputs": []
    },
    {
      "cell_type": "code",
      "source": [
        "from flask import Flask, request, jsonify\n",
        "import numpy as np\n",
        "\n",
        "app = Flask(__name__)\n",
        "\n",
        "# Define the route for prediction\n",
        "@app.route('/predict', methods=['POST'])\n",
        "def predict():\n",
        "    # Get the recipe name from the request\n",
        "    recipe_name = request.json['recipe_name']\n",
        "\n",
        "    # Find the index of the recipe in the dataset\n",
        "    recipe_index = data[data['Recipe_Name'] == recipe_name].index[0]\n",
        "\n",
        "    # Extract the features for the selected recipe\n",
        "    recipe_features = X[recipe_index]\n",
        "\n",
        "    # Calculate the Euclidean distances between features\n",
        "    distances = np.linalg.norm(X - recipe_features, axis=1)\n",
        "\n",
        "    # Sort the distances in ascending order\n",
        "    sorted_distances = np.argsort(distances)\n",
        "\n",
        "    # Get the top 5 similar recipes\n",
        "    recommended_recipes = sorted_distances[:5]\n",
        "\n",
        "    # Get the recipe names\n",
        "    recipe_names = []\n",
        "    for index in recommended_recipes:\n",
        "        recipe_name = data.loc[index, 'Recipe_Name']\n",
        "        recipe_names.append(recipe_name)\n",
        "\n",
        "    # Return the recipe names as the API response\n",
        "    return jsonify({'recommended_recipes': recipe_names})\n",
        "\n",
        "if __name__ == '__main__':\n",
        "    app.run()"
      ],
      "metadata": {
        "colab": {
          "base_uri": "https://localhost:8080/"
        },
        "id": "afDXWkoarp8Y",
        "outputId": "5f9d14ec-c8b7-4597-c982-fe4b62be9a2e"
      },
      "execution_count": null,
      "outputs": [
        {
          "output_type": "stream",
          "name": "stdout",
          "text": [
            " * Serving Flask app '__main__'\n",
            " * Debug mode: off\n"
          ]
        },
        {
          "output_type": "stream",
          "name": "stderr",
          "text": [
            "INFO:werkzeug:\u001b[31m\u001b[1mWARNING: This is a development server. Do not use it in a production deployment. Use a production WSGI server instead.\u001b[0m\n",
            " * Running on http://127.0.0.1:5000\n",
            "INFO:werkzeug:\u001b[33mPress CTRL+C to quit\u001b[0m\n"
          ]
        }
      ]
    },
    {
      "cell_type": "code",
      "source": [
        "import shutil\n",
        "\n",
        "# Specify the path to the saved model directory\n",
        "model_directory = './saved_model/'\n",
        "\n",
        "# Specify the path for the zip file\n",
        "zip_file_path = '/content/saved_model.zip'\n",
        "\n",
        "# Zip the model directory\n",
        "shutil.make_archive(zip_file_path.split('.')[0], 'zip', model_directory)\n",
        "\n",
        "# Download the zip file\n",
        "from google.colab import files\n",
        "files.download(zip_file_path)"
      ],
      "metadata": {
        "id": "fSrl6vQk4cfo",
        "outputId": "bb7d615f-e02e-4347-9947-8992acb086fe",
        "colab": {
          "base_uri": "https://localhost:8080/",
          "height": 17
        }
      },
      "execution_count": 14,
      "outputs": [
        {
          "output_type": "display_data",
          "data": {
            "text/plain": [
              "<IPython.core.display.Javascript object>"
            ],
            "application/javascript": [
              "\n",
              "    async function download(id, filename, size) {\n",
              "      if (!google.colab.kernel.accessAllowed) {\n",
              "        return;\n",
              "      }\n",
              "      const div = document.createElement('div');\n",
              "      const label = document.createElement('label');\n",
              "      label.textContent = `Downloading \"${filename}\": `;\n",
              "      div.appendChild(label);\n",
              "      const progress = document.createElement('progress');\n",
              "      progress.max = size;\n",
              "      div.appendChild(progress);\n",
              "      document.body.appendChild(div);\n",
              "\n",
              "      const buffers = [];\n",
              "      let downloaded = 0;\n",
              "\n",
              "      const channel = await google.colab.kernel.comms.open(id);\n",
              "      // Send a message to notify the kernel that we're ready.\n",
              "      channel.send({})\n",
              "\n",
              "      for await (const message of channel.messages) {\n",
              "        // Send a message to notify the kernel that we're ready.\n",
              "        channel.send({})\n",
              "        if (message.buffers) {\n",
              "          for (const buffer of message.buffers) {\n",
              "            buffers.push(buffer);\n",
              "            downloaded += buffer.byteLength;\n",
              "            progress.value = downloaded;\n",
              "          }\n",
              "        }\n",
              "      }\n",
              "      const blob = new Blob(buffers, {type: 'application/binary'});\n",
              "      const a = document.createElement('a');\n",
              "      a.href = window.URL.createObjectURL(blob);\n",
              "      a.download = filename;\n",
              "      div.appendChild(a);\n",
              "      a.click();\n",
              "      div.remove();\n",
              "    }\n",
              "  "
            ]
          },
          "metadata": {}
        },
        {
          "output_type": "display_data",
          "data": {
            "text/plain": [
              "<IPython.core.display.Javascript object>"
            ],
            "application/javascript": [
              "download(\"download_cab7d14f-e0b1-47fe-8a98-025229bea8ef\", \"saved_model.zip\", 955297)"
            ]
          },
          "metadata": {}
        }
      ]
    },
    {
      "cell_type": "code",
      "source": [],
      "metadata": {
        "id": "L1Y5YJdn4dOn"
      },
      "execution_count": null,
      "outputs": []
    }
  ]
}